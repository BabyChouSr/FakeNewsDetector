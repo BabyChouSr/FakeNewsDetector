{
 "cells": [
  {
   "cell_type": "markdown",
   "metadata": {},
   "source": [
    "### Importing the Necessary Libraries"
   ]
  },
  {
   "cell_type": "code",
   "execution_count": 1,
   "metadata": {},
   "outputs": [
    {
     "name": "stderr",
     "output_type": "stream",
     "text": [
      "Using TensorFlow backend.\n"
     ]
    }
   ],
   "source": [
    "import numpy as np\n",
    "import pandas as pd\n",
    "import keras\n",
    "import tensorflow as tf\n",
    "from keras.layers import Dense\n",
    "from keras.models import Sequential\n",
    "import matplotlib.pyplot as plt\n",
    "%matplotlib inline"
   ]
  },
  {
   "cell_type": "markdown",
   "metadata": {},
   "source": [
    "### Reading the Dataset"
   ]
  },
  {
   "cell_type": "code",
   "execution_count": 2,
   "metadata": {},
   "outputs": [
    {
     "data": {
      "text/html": [
       "<div>\n",
       "<style scoped>\n",
       "    .dataframe tbody tr th:only-of-type {\n",
       "        vertical-align: middle;\n",
       "    }\n",
       "\n",
       "    .dataframe tbody tr th {\n",
       "        vertical-align: top;\n",
       "    }\n",
       "\n",
       "    .dataframe thead th {\n",
       "        text-align: right;\n",
       "    }\n",
       "</style>\n",
       "<table border=\"1\" class=\"dataframe\">\n",
       "  <thead>\n",
       "    <tr style=\"text-align: right;\">\n",
       "      <th></th>\n",
       "      <th>title</th>\n",
       "      <th>text</th>\n",
       "      <th>subject</th>\n",
       "      <th>date</th>\n",
       "    </tr>\n",
       "  </thead>\n",
       "  <tbody>\n",
       "    <tr>\n",
       "      <th>0</th>\n",
       "      <td>As U.S. budget fight looms, Republicans flip t...</td>\n",
       "      <td>WASHINGTON (Reuters) - The head of a conservat...</td>\n",
       "      <td>politicsNews</td>\n",
       "      <td>December 31, 2017</td>\n",
       "    </tr>\n",
       "    <tr>\n",
       "      <th>1</th>\n",
       "      <td>U.S. military to accept transgender recruits o...</td>\n",
       "      <td>WASHINGTON (Reuters) - Transgender people will...</td>\n",
       "      <td>politicsNews</td>\n",
       "      <td>December 29, 2017</td>\n",
       "    </tr>\n",
       "    <tr>\n",
       "      <th>2</th>\n",
       "      <td>Senior U.S. Republican senator: 'Let Mr. Muell...</td>\n",
       "      <td>WASHINGTON (Reuters) - The special counsel inv...</td>\n",
       "      <td>politicsNews</td>\n",
       "      <td>December 31, 2017</td>\n",
       "    </tr>\n",
       "    <tr>\n",
       "      <th>3</th>\n",
       "      <td>FBI Russia probe helped by Australian diplomat...</td>\n",
       "      <td>WASHINGTON (Reuters) - Trump campaign adviser ...</td>\n",
       "      <td>politicsNews</td>\n",
       "      <td>December 30, 2017</td>\n",
       "    </tr>\n",
       "    <tr>\n",
       "      <th>4</th>\n",
       "      <td>Trump wants Postal Service to charge 'much mor...</td>\n",
       "      <td>SEATTLE/WASHINGTON (Reuters) - President Donal...</td>\n",
       "      <td>politicsNews</td>\n",
       "      <td>December 29, 2017</td>\n",
       "    </tr>\n",
       "  </tbody>\n",
       "</table>\n",
       "</div>"
      ],
      "text/plain": [
       "                                               title  \\\n",
       "0  As U.S. budget fight looms, Republicans flip t...   \n",
       "1  U.S. military to accept transgender recruits o...   \n",
       "2  Senior U.S. Republican senator: 'Let Mr. Muell...   \n",
       "3  FBI Russia probe helped by Australian diplomat...   \n",
       "4  Trump wants Postal Service to charge 'much mor...   \n",
       "\n",
       "                                                text       subject  \\\n",
       "0  WASHINGTON (Reuters) - The head of a conservat...  politicsNews   \n",
       "1  WASHINGTON (Reuters) - Transgender people will...  politicsNews   \n",
       "2  WASHINGTON (Reuters) - The special counsel inv...  politicsNews   \n",
       "3  WASHINGTON (Reuters) - Trump campaign adviser ...  politicsNews   \n",
       "4  SEATTLE/WASHINGTON (Reuters) - President Donal...  politicsNews   \n",
       "\n",
       "                 date  \n",
       "0  December 31, 2017   \n",
       "1  December 29, 2017   \n",
       "2  December 31, 2017   \n",
       "3  December 30, 2017   \n",
       "4  December 29, 2017   "
      ]
     },
     "execution_count": 2,
     "metadata": {},
     "output_type": "execute_result"
    }
   ],
   "source": [
    "df_true = pd.read_csv(\"True.csv\")\n",
    "df_fake = pd.read_csv(\"Fake.csv\")\n",
    "df_true.head()"
   ]
  },
  {
   "cell_type": "markdown",
   "metadata": {},
   "source": [
    "### Concatenating the true and fake datasets "
   ]
  },
  {
   "cell_type": "code",
   "execution_count": 3,
   "metadata": {},
   "outputs": [],
   "source": [
    "df_true['category'] = 1\n",
    "df_fake['category'] = 0\n",
    "df = pd.concat([df_true,df_fake])"
   ]
  },
  {
   "cell_type": "markdown",
   "metadata": {},
   "source": [
    "### Importing Libraries for Deep Learning"
   ]
  },
  {
   "cell_type": "code",
   "execution_count": 4,
   "metadata": {},
   "outputs": [],
   "source": [
    "from keras.models import Model\n",
    "from keras.layers import Dense, Input, Dropout, LSTM, Activation\n",
    "from keras.layers.embeddings import Embedding\n",
    "from keras.preprocessing import sequence\n",
    "from keras.initializers import glorot_uniform\n",
    "from sklearn.model_selection import train_test_split\n",
    "from tensorflow.keras.preprocessing.text import Tokenizer\n",
    "from tensorflow.keras.preprocessing.sequence import pad_sequences\n",
    "from tensorflow.keras.callbacks import Callback"
   ]
  },
  {
   "cell_type": "code",
   "execution_count": 15,
   "metadata": {},
   "outputs": [],
   "source": [
    "#Initializing the Hyperparameters\n",
    "vocab_size = 100000\n",
    "embedding_dim_title = 128\n",
    "max_length_title = 40\n",
    "embedding_dim_text = 500\n",
    "max_length_text = 500\n",
    "trunc_type = 'post'\n",
    "padding_type = 'post'\n",
    "test_ratio = .2\n",
    "embedding_dim = 500"
   ]
  },
  {
   "cell_type": "markdown",
   "metadata": {},
   "source": [
    "### Tokenizing the Words (Mapping Words to Vectors)"
   ]
  },
  {
   "cell_type": "code",
   "execution_count": 28,
   "metadata": {},
   "outputs": [],
   "source": [
    "df['text'] = df['title'] + df['text'] + df['subject']\n",
    "X_train,X_test,y_train,y_test = train_test_split(df.text,df.category, test_size = 0.20)\n",
    "\n",
    "t = Tokenizer(num_words = vocab_size)\n",
    "t.fit_on_texts(X_train)\n",
    "train_sequences = t.texts_to_sequences(X_train)\n",
    "train_padded = pad_sequences(train_sequences, maxlen=max_length_title,\n",
    "                                padding=padding_type,\n",
    "                                truncating=trunc_type)\n",
    "t.fit_on_texts(X_test)\n",
    "test_sequences = t.texts_to_sequences(X_test)\n",
    "test_padded = pad_sequences(test_sequences, maxlen=max_length_title,\n",
    "                                padding=padding_type,\n",
    "                                truncating=trunc_type)\n",
    "\n",
    "train_padded = np.array(train_padded)\n",
    "y_train = np.array(y_train)"
   ]
  },
  {
   "cell_type": "markdown",
   "metadata": {},
   "source": [
    "### Custom Callback Function for Early Stopping"
   ]
  },
  {
   "cell_type": "code",
   "execution_count": 26,
   "metadata": {},
   "outputs": [],
   "source": [
    "class AccuracyHistory(keras.callbacks.Callback):\n",
    "    def on_train_begin(self, logs={}):\n",
    "        self.acc = []\n",
    "\n",
    "    def on_epoch_end(self, batch, logs={}):\n",
    "        if logs.get('acc') > 0.95:\n",
    "                print(f'Accuracy reached {logs.get(\"acc\")*100:0.2f}. Stopping the training')\n",
    "                self.model.stop_training = True\n",
    "\n",
    "history = AccuracyHistory()\n"
   ]
  },
  {
   "cell_type": "markdown",
   "metadata": {},
   "source": [
    "### Creating the Model"
   ]
  },
  {
   "cell_type": "code",
   "execution_count": 16,
   "metadata": {},
   "outputs": [],
   "source": [
    "model = tf.keras.Sequential()\n",
    "model.add(tf.keras.layers.Embedding(vocab_size, embedding_dim))\n",
    "model.add(tf.keras.layers.Bidirectional(tf.keras.layers.LSTM(embedding_dim)))\n",
    "model.add(tf.keras.layers.Dense(embedding_dim, activation='relu'))\n",
    "model.add(tf.keras.layers.Dense(1, activation='sigmoid'))\n",
    "model.compile(loss='binary_crossentropy', optimizer='adam', metrics=['acc'])"
   ]
  },
  {
   "cell_type": "markdown",
   "metadata": {},
   "source": [
    "### Training the Model"
   ]
  },
  {
   "cell_type": "code",
   "execution_count": 29,
   "metadata": {},
   "outputs": [
    {
     "name": "stdout",
     "output_type": "stream",
     "text": [
      "Train on 35918 samples\n",
      "Epoch 1/5\n",
      "35918/35918 [==============================] - 1885s 52ms/sample - loss: 0.1336 - acc: 0.9497\n",
      "Epoch 2/5\n",
      "35904/35918 [============================>.] - ETA: 0s - loss: 0.0336 - acc: 0.9892Accuracy reached 98.92. Stopping the training\n",
      "35918/35918 [==============================] - 1849s 51ms/sample - loss: 0.0336 - acc: 0.9892\n"
     ]
    },
    {
     "data": {
      "text/plain": [
       "<tensorflow.python.keras.callbacks.History at 0x10cd8499ba8>"
      ]
     },
     "execution_count": 29,
     "metadata": {},
     "output_type": "execute_result"
    }
   ],
   "source": [
    "model.fit(train_padded , y_train, epochs=5,batch_size=32, callbacks=[history])"
   ]
  },
  {
   "cell_type": "markdown",
   "metadata": {},
   "source": [
    "### Saving Model"
   ]
  },
  {
   "cell_type": "code",
   "execution_count": 20,
   "metadata": {},
   "outputs": [],
   "source": [
    "model.save('modelLSTM09892.h5')"
   ]
  },
  {
   "cell_type": "markdown",
   "metadata": {},
   "source": [
    "### Testing the Model "
   ]
  },
  {
   "cell_type": "code",
   "execution_count": 33,
   "metadata": {},
   "outputs": [],
   "source": [
    "model = tf.keras.models.load_model('modelLSTM09892.h5')"
   ]
  },
  {
   "cell_type": "markdown",
   "metadata": {},
   "source": [
    "### Testing On Known Fake News Article\n",
    "From Politifact: https://www.politifact.com/factchecks/2020/apr/20/facebook-posts/news-photo-stay-home-protest-was-not-doctored/"
   ]
  },
  {
   "cell_type": "code",
   "execution_count": 34,
   "metadata": {},
   "outputs": [
    {
     "name": "stdout",
     "output_type": "stream",
     "text": [
      "False with a Confidence of:  99.77364437654614 %\n"
     ]
    }
   ],
   "source": [
    "fakeee = [\"Conspiracies about mainstream news media are flourishing amid the government response to the COVID-19 pandemic. What a bunch of BS, screamed a Facebook post about a news photo from a Wisconsin rally against stay-at-home orders. Sharing two images from the demonstration, the post essentially claims the Milwaukee Journal Sentinel doctored a photo to put a Confederate Battle Flag in the hands of one protester. But the Milwaukee Journal Sentinel did not alter its photo.   The post was flagged as part of Facebook’s efforts to combat false news and misinformation on its News Feed. (Read more about our partnership with Facebook.) Here’s what happened. The Journal Sentinel, which publishes PolitiFact Wisconsin, posted a news story about the April 18 rally in Brookfield, a Milwaukee suburb. Nearly 1,000 people packed the sidewalk adjacent to a busy thoroughfare, most shoulder to shoulder, to protest Gov. Tony Evers’ decision to extend Wisconsin’s safer-at-home order until May 26. The Facebook post shows two photographs from the rally side by side — one from the Journal Sentinel and one said to be taken by the poster’s daughter.  The Journal Sentinel photo shows a man wearing a plaid shirt and jeans among a group of people and holding two flags — a Confederate flag and just above it, a yellow flag that is harder to make out.  The other photo with the post shows a man, also in a plaid shirt and jeans, who is not so close to other people. He is clearly holding only a yellow flag. The implication is that in its photo, the Journal Sentinel added the Confederate flag into the man’s hands.\"]\n",
    "t = Tokenizer(num_words =vocab_size)\n",
    "t.fit_on_texts(fakeee)\n",
    "fake_sequence = t.texts_to_sequences(fakeee)\n",
    "fake_padded = pad_sequences(fake_sequence, maxlen= 40,\n",
    "                                padding= 'post',\n",
    "                                truncating= 'post')\n",
    "\n",
    "pred = model.predict(fake_padded)\n",
    "if pred >= 0.5:\n",
    "    print(\"True with a Confidence of: \", (pred[0][0]) * 100, \"%\")\n",
    "else:\n",
    "    print(\"False with a Confidence of: \", (1-pred[0][0]) * 100, \"%\")"
   ]
  },
  {
   "cell_type": "markdown",
   "metadata": {},
   "source": [
    "### Testing on Known True News Article\n",
    "From Politifact: https://www.politifact.com/factchecks/2020/apr/20/andrew-cuomo/cuomo-accurately-says-other-countries-reopened-saw/"
   ]
  },
  {
   "cell_type": "code",
   "execution_count": 35,
   "metadata": {},
   "outputs": [
    {
     "name": "stdout",
     "output_type": "stream",
     "text": [
      "True with a Confidence of:  95.37554383277893 %\n"
     ]
    }
   ],
   "source": [
    "trueee = [\"During a recent press briefing regarding Covid-19 in New York state, Gov. Andrew Cuomo said the economy must be reopened and that people need to get back to work. But, he said the rate of infection is currently being kept down because people are staying in their homes.  And if you start acting differently, you will see a corresponding increase in that rate of infection. And the worst scenario would be if we did all of this, we got that number down, everybody went to extraordinary means, and then we go to reopen and we reopen too fast or we reopen and there’s unanticipated consequences, and we see that number go up again, he said.  He warned that people who think he is being hyper-cautious should look at what is happening in other countries and their responses to the new coronavirus.  Go look at other countries that went through exactly this, started to reopen, and then they saw the infection rate go back up again, he said.   Since talk of reopening, and the possible dangers of doing so, dominates headlines across the United States and around the world, we wondered about whether other countries have already experienced a second surge in infections after relaxing lockdown orders for people, schools, businesses, and borders.  Experience elsewher In Asia, authorities have been dealing with Covid-19 for more months than the United States has, and they have more experience in responding to the virus.  In some cases, the number of infections in a city or country has increased after welcoming inbound travelers, or after a relaxing of social distancing measures.  In Hong Kong, an early response seemed to contain the virus, and then life resumed as people returned to work and restaurants.  With most everyone’s guard down, the predator lashed back last week. Cases of Covid-19 surged, STAT News reported on March 26. The government ordered people back home, and closed facilities that had been reopened.    In Hong Kong, it soon became clear that while the majority were coming from overseas, quarantine measures in place were not sufficient, and local transmission had resumed, CNN reported on March 23. \"]\n",
    "t = Tokenizer(num_words =vocab_size)\n",
    "t.fit_on_texts(trueee)\n",
    "true_sequence = t.texts_to_sequences(trueee)\n",
    "true_padded = pad_sequences(true_sequence, maxlen= 40,\n",
    "                                padding= 'post',\n",
    "                                truncating= 'post')\n",
    "pred = model.predict(true_padded)\n",
    "if pred >= 0.5:\n",
    "    print(\"True with a Confidence of: \", (pred[0][0]) * 100, \"%\")\n",
    "else:\n",
    "    print(\"False with a Confidence of: \", (1-pred[0][0]) * 100, \"%\")"
   ]
  },
  {
   "cell_type": "code",
   "execution_count": null,
   "metadata": {},
   "outputs": [],
   "source": []
  }
 ],
 "metadata": {
  "kernelspec": {
   "display_name": "Python 3",
   "language": "python",
   "name": "python3"
  },
  "language_info": {
   "codemirror_mode": {
    "name": "ipython",
    "version": 3
   },
   "file_extension": ".py",
   "mimetype": "text/x-python",
   "name": "python",
   "nbconvert_exporter": "python",
   "pygments_lexer": "ipython3",
   "version": "3.7.3"
  }
 },
 "nbformat": 4,
 "nbformat_minor": 2
}
